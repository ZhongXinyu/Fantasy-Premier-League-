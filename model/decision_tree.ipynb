{
 "cells": [
  {
   "cell_type": "code",
   "execution_count": 11,
   "metadata": {},
   "outputs": [],
   "source": [
    "from sklearn.neural_network import MLPRegressor\n",
    "from sklearn.metrics import mean_absolute_error\n",
    "from sklearn.tree import DecisionTreeRegressor\n",
    "import matplotlib.pyplot as plt\n",
    "import pandas as pd"
   ]
  },
  {
   "cell_type": "code",
   "execution_count": 14,
   "metadata": {},
   "outputs": [],
   "source": [
    "# load data\n",
    "df_predictors = pd.read_pickle(\"../data_base/model/predictors.pkl\")\n",
    "df_label = pd.read_pickle(\"../data_base/model/label.pkl\")"
   ]
  },
  {
   "cell_type": "code",
   "execution_count": 17,
   "metadata": {},
   "outputs": [
    {
     "name": "stdout",
     "output_type": "stream",
     "text": [
      "     element  assists-6  assists-5  assists-4  assists-3  assists-2  \\\n",
      "0          4          0          0          2          1          0   \n",
      "1          5          0          0          0          0          0   \n",
      "2          6          0          0          0          0          0   \n",
      "3         12          1          0          0          1          0   \n",
      "4         13          0          1          0          0          0   \n",
      "..       ...        ...        ...        ...        ...        ...   \n",
      "149      604          0          0          0          0          0   \n",
      "150      605          0          0          0          0          0   \n",
      "151      611          0          0          0          0          0   \n",
      "152      614          0          0          0          0          0   \n",
      "153      616          0          0          0          0          0   \n",
      "\n",
      "     assists-1  bonus-6  bonus-5  bonus-4  ...  threat-2  threat-1  \\\n",
      "0            0        0        0        0  ...      25.0       4.0   \n",
      "1            0        0        0        0  ...       0.0       8.0   \n",
      "2            0        0        0        0  ...       2.0       3.0   \n",
      "3            0        0        0        0  ...       4.0       0.0   \n",
      "4            0        2        0        0  ...       5.0      19.0   \n",
      "..         ...      ...      ...      ...  ...       ...       ...   \n",
      "149          0        0        0        0  ...       0.0       0.0   \n",
      "150          0        0        0        0  ...       8.0       8.0   \n",
      "151          0        0        0        0  ...       0.0       0.0   \n",
      "152          0        0        0        0  ...       0.0       0.0   \n",
      "153          0        0        1        0  ...       7.0       0.0   \n",
      "\n",
      "     total_points-6  total_points-5  total_points-4  total_points-3  \\\n",
      "0                 0               0               7               4   \n",
      "1                 1               1               0               2   \n",
      "2                 2               2               1               2   \n",
      "3                 5               3               2               5   \n",
      "4                 8               5               5               2   \n",
      "..              ...             ...             ...             ...   \n",
      "149               2               1               0               0   \n",
      "150               2               1               3               1   \n",
      "151               5               2               6               2   \n",
      "152               2               3               1               3   \n",
      "153               1               7               0               2   \n",
      "\n",
      "     total_points-2  total_points-1  team opponent_team  \n",
      "0                 3               1     1             3  \n",
      "1                 5               1     1             3  \n",
      "2                 1               0     1             3  \n",
      "3                 1               0     1             3  \n",
      "4                 2               1     1             3  \n",
      "..              ...             ...   ...           ...  \n",
      "149               1               1    16             2  \n",
      "150               1               2     6             8  \n",
      "151               0               2     7            18  \n",
      "152               3               2    12            11  \n",
      "153               2               6    13             3  \n",
      "\n",
      "[770 rows x 63 columns]\n",
      "Index(['element', 'assists-6', 'assists-5', 'assists-4', 'assists-3',\n",
      "       'assists-2', 'assists-1', 'bonus-6', 'bonus-5', 'bonus-4', 'bonus-3',\n",
      "       'bonus-2', 'bonus-1', 'clean_sheets-6', 'clean_sheets-5',\n",
      "       'clean_sheets-4', 'clean_sheets-3', 'clean_sheets-2', 'clean_sheets-1',\n",
      "       'creativity-6', 'creativity-5', 'creativity-4', 'creativity-3',\n",
      "       'creativity-2', 'creativity-1', 'goals_conceded-6', 'goals_conceded-5',\n",
      "       'goals_conceded-4', 'goals_conceded-3', 'goals_conceded-2',\n",
      "       'goals_conceded-1', 'goals_scored-6', 'goals_scored-5',\n",
      "       'goals_scored-4', 'goals_scored-3', 'goals_scored-2', 'goals_scored-1',\n",
      "       'ict_index-6', 'ict_index-5', 'ict_index-4', 'ict_index-3',\n",
      "       'ict_index-2', 'ict_index-1', 'influence-6', 'influence-5',\n",
      "       'influence-4', 'influence-3', 'influence-2', 'influence-1', 'threat-6',\n",
      "       'threat-5', 'threat-4', 'threat-3', 'threat-2', 'threat-1',\n",
      "       'total_points-6', 'total_points-5', 'total_points-4', 'total_points-3',\n",
      "       'total_points-2', 'total_points-1', 'team', 'opponent_team'],\n",
      "      dtype='object')\n"
     ]
    }
   ],
   "source": [
    "# print (df_predictors)\n",
    "print (df_predictors.columns)"
   ]
  },
  {
   "cell_type": "code",
   "execution_count": 13,
   "metadata": {},
   "outputs": [
    {
     "name": "stdout",
     "output_type": "stream",
     "text": [
      "[('threat7', 0.35321029517377106), ('goals_scored9', 0.153228969452609), ('influence9', 0.10316814908744674), ('total_points7', 0.08021844309598224), ('threat9', 0.0784029386975015), ('influence6', 0.06780784420256854), ('total_points6', 0.058818404914164825), ('ict_index4', 0.05422531867636117), ('ict_index7', 0.0391585231475157), ('creativity8', 0.011331744277315724), ('goals_conceded8', 0.00042936927476344125), ('element', 0.0), ('assists4', 0.0), ('assists5', 0.0), ('assists6', 0.0), ('assists7', 0.0), ('assists8', 0.0), ('assists9', 0.0), ('bonus4', 0.0), ('bonus5', 0.0), ('bonus6', 0.0), ('bonus7', 0.0), ('bonus8', 0.0), ('bonus9', 0.0), ('clean_sheets4', 0.0), ('clean_sheets5', 0.0), ('clean_sheets6', 0.0), ('clean_sheets7', 0.0), ('clean_sheets8', 0.0), ('clean_sheets9', 0.0), ('creativity4', 0.0), ('creativity5', 0.0), ('creativity6', 0.0), ('creativity7', 0.0), ('creativity9', 0.0), ('goals_conceded4', 0.0), ('goals_conceded5', 0.0), ('goals_conceded6', 0.0), ('goals_conceded7', 0.0), ('goals_conceded9', 0.0), ('goals_scored4', 0.0), ('goals_scored5', 0.0), ('goals_scored6', 0.0), ('goals_scored7', 0.0), ('goals_scored8', 0.0), ('ict_index5', 0.0), ('ict_index6', 0.0), ('ict_index8', 0.0), ('ict_index9', 0.0), ('influence4', 0.0), ('influence5', 0.0), ('influence7', 0.0), ('influence8', 0.0), ('threat4', 0.0), ('threat5', 0.0), ('threat6', 0.0), ('threat8', 0.0), ('total_points4', 0.0), ('total_points5', 0.0), ('total_points8', 0.0), ('total_points9', 0.0), ('team', 0.0), ('opponent_team', 0.0)]\n"
     ]
    }
   ],
   "source": [
    "\n",
    "\n",
    "# create a tree model\n",
    "model = DecisionTreeRegressor(max_depth=5)\n",
    "model.fit(df_predictors, df_label)\n",
    "\n",
    "# output the feature importance\n",
    "importances = model.feature_importances_\n",
    "\n",
    "# output the feature, feature importance pair\n",
    "feature_importance = dict(zip(df_predictors.columns, importances))\n",
    "\n",
    "# sort the feature importance\n",
    "feature_importance = sorted(feature_importance.items(), key=lambda x: x[1], reverse=True)\n",
    "\n",
    "print (feature_importance)"
   ]
  }
 ],
 "metadata": {
  "kernelspec": {
   "display_name": "FPL_football",
   "language": "python",
   "name": "python3"
  },
  "language_info": {
   "codemirror_mode": {
    "name": "ipython",
    "version": 3
   },
   "file_extension": ".py",
   "mimetype": "text/x-python",
   "name": "python",
   "nbconvert_exporter": "python",
   "pygments_lexer": "ipython3",
   "version": "3.8.18"
  }
 },
 "nbformat": 4,
 "nbformat_minor": 2
}
